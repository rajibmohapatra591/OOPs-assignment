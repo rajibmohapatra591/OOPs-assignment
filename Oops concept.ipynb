{
 "cells": [
  {
   "cell_type": "code",
   "execution_count": null,
   "id": "337463b9-22ee-43e3-9504-81139a201886",
   "metadata": {},
   "outputs": [],
   "source": [
    "\"Oops\" stands for Object-Oiented Programming system"
   ]
  },
  {
   "cell_type": "code",
   "execution_count": 1,
   "id": "69a652ac-9cf2-47c9-b010-591a946765de",
   "metadata": {},
   "outputs": [],
   "source": [
    "a = 1"
   ]
  },
  {
   "cell_type": "code",
   "execution_count": 2,
   "id": "34ac2bc8-c03f-42c3-9633-053b9ad372bf",
   "metadata": {},
   "outputs": [
    {
     "name": "stdout",
     "output_type": "stream",
     "text": [
      "<class 'int'>\n"
     ]
    }
   ],
   "source": [
    "print(type(a))"
   ]
  },
  {
   "cell_type": "code",
   "execution_count": 3,
   "id": "bef3ed16-6827-4721-ab89-0086d6782a00",
   "metadata": {},
   "outputs": [
    {
     "name": "stdout",
     "output_type": "stream",
     "text": [
      "<class 'str'>\n"
     ]
    }
   ],
   "source": [
    "print(type(\"pwskills\"))"
   ]
  },
  {
   "cell_type": "code",
   "execution_count": 4,
   "id": "2fa28299-35ba-4820-97e2-6ee1c3d863bc",
   "metadata": {},
   "outputs": [],
   "source": [
    "class test :\n",
    "    pass"
   ]
  },
  {
   "cell_type": "code",
   "execution_count": 5,
   "id": "6da41105-5cca-4b01-aba2-a771a73ac6de",
   "metadata": {},
   "outputs": [],
   "source": [
    "a = test()"
   ]
  },
  {
   "cell_type": "code",
   "execution_count": 6,
   "id": "4688ed99-3b2d-4816-8510-c6cd8dc3db50",
   "metadata": {},
   "outputs": [
    {
     "data": {
      "text/plain": [
       "__main__.test"
      ]
     },
     "execution_count": 6,
     "metadata": {},
     "output_type": "execute_result"
    }
   ],
   "source": [
    "type(a)"
   ]
  },
  {
   "cell_type": "code",
   "execution_count": 7,
   "id": "8f3ffccd-86e1-4cc7-802b-75820df7d923",
   "metadata": {},
   "outputs": [
    {
     "name": "stdout",
     "output_type": "stream",
     "text": [
      "<class '__main__.test'>\n"
     ]
    }
   ],
   "source": [
    "print(type(a))"
   ]
  },
  {
   "cell_type": "code",
   "execution_count": 12,
   "id": "9193cfc5-76c9-4a62-9f83-db840908f940",
   "metadata": {},
   "outputs": [],
   "source": [
    "class pwskills :\n",
    "    def welcome_msg(self):\n",
    "        print(\"welcome to pwskills\")"
   ]
  },
  {
   "cell_type": "code",
   "execution_count": 13,
   "id": "b17074ae-d30a-44b4-9678-9712dd22871b",
   "metadata": {},
   "outputs": [],
   "source": [
    "rajib = pwskills()"
   ]
  },
  {
   "cell_type": "code",
   "execution_count": 14,
   "id": "f0273250-9021-4d1e-a422-64bf0b16457c",
   "metadata": {},
   "outputs": [
    {
     "name": "stdout",
     "output_type": "stream",
     "text": [
      "<class '__main__.pwskills'>\n"
     ]
    }
   ],
   "source": [
    "print(type(rajib))"
   ]
  },
  {
   "cell_type": "code",
   "execution_count": 15,
   "id": "00380303-0258-4f6a-96b8-337e01a33bc9",
   "metadata": {},
   "outputs": [
    {
     "name": "stdout",
     "output_type": "stream",
     "text": [
      "welcome to pwskills\n"
     ]
    }
   ],
   "source": [
    "rajib.welcome_msg()"
   ]
  },
  {
   "cell_type": "code",
   "execution_count": 16,
   "id": "659a81e0-6082-4914-ab3b-b9c434605700",
   "metadata": {},
   "outputs": [],
   "source": [
    "mama = pwskills()"
   ]
  },
  {
   "cell_type": "code",
   "execution_count": 17,
   "id": "34219c72-496f-4976-b489-884ef1011cdc",
   "metadata": {},
   "outputs": [
    {
     "name": "stdout",
     "output_type": "stream",
     "text": [
      "welcome to pwskills\n"
     ]
    }
   ],
   "source": [
    "mama.welcome_msg()"
   ]
  },
  {
   "cell_type": "code",
   "execution_count": 40,
   "id": "3bf974ed-929d-4c9e-9ef9-6e370566e2ba",
   "metadata": {},
   "outputs": [],
   "source": [
    "class pwskills1 :\n",
    "   \n",
    "    def __init__(self, phone_number, email_id,student_id):\n",
    "        self.phone_number = phone_number\n",
    "        self.email_id = email_id\n",
    "        self.student_id = student_id\n",
    "        \n",
    "    def return_student_details(self) :\n",
    "        return self.phone_number,self.email_id,self.student_id"
   ]
  },
  {
   "cell_type": "code",
   "execution_count": 41,
   "id": "16f96035-3647-4ffd-b990-236282730c0b",
   "metadata": {},
   "outputs": [
    {
     "ename": "TypeError",
     "evalue": "pwskills1.__init__() missing 3 required positional arguments: 'phone_number', 'email_id', and 'student_id'",
     "output_type": "error",
     "traceback": [
      "\u001b[0;31m---------------------------------------------------------------------------\u001b[0m",
      "\u001b[0;31mTypeError\u001b[0m                                 Traceback (most recent call last)",
      "Cell \u001b[0;32mIn[41], line 1\u001b[0m\n\u001b[0;32m----> 1\u001b[0m subha \u001b[38;5;241m=\u001b[39m \u001b[43mpwskills1\u001b[49m\u001b[43m(\u001b[49m\u001b[43m)\u001b[49m\n",
      "\u001b[0;31mTypeError\u001b[0m: pwskills1.__init__() missing 3 required positional arguments: 'phone_number', 'email_id', and 'student_id'"
     ]
    }
   ],
   "source": [
    "subha = pwskills1()"
   ]
  },
  {
   "cell_type": "code",
   "execution_count": 42,
   "id": "60d189ba-1998-4917-b581-c91c4b1a1a57",
   "metadata": {},
   "outputs": [],
   "source": [
    "subha = pwskills1(7848874221, \"subhasmitasahoo051@gmailcom\" , 54)"
   ]
  },
  {
   "cell_type": "code",
   "execution_count": 43,
   "id": "2d077c91-d332-46e1-a015-d54e79e2dc8d",
   "metadata": {},
   "outputs": [
    {
     "data": {
      "text/plain": [
       "(7848874221, 'subhasmitasahoo051@gmailcom', 54)"
      ]
     },
     "execution_count": 43,
     "metadata": {},
     "output_type": "execute_result"
    }
   ],
   "source": [
    "subha.return_student_details()"
   ]
  },
  {
   "cell_type": "code",
   "execution_count": 44,
   "id": "8936901a-656c-4526-9b2a-3154072c806d",
   "metadata": {},
   "outputs": [],
   "source": [
    "mama = pwskills1( 9237005932 , \"mamasahoo@gmail.com\" , 32)"
   ]
  },
  {
   "cell_type": "code",
   "execution_count": 45,
   "id": "eea80f4f-ad28-4fee-8e5f-0ce3dd15e352",
   "metadata": {},
   "outputs": [
    {
     "data": {
      "text/plain": [
       "(9237005932, 'mamasahoo@gmail.com', 32)"
      ]
     },
     "execution_count": 45,
     "metadata": {},
     "output_type": "execute_result"
    }
   ],
   "source": [
    "mama.return_student_details()"
   ]
  },
  {
   "cell_type": "code",
   "execution_count": 48,
   "id": "5074ec4b-3176-42fd-9136-53cef2f47075",
   "metadata": {},
   "outputs": [],
   "source": [
    "rajib = pwskills1(7735355054,\"rajibmohapatra591@gmail.com\",554)"
   ]
  },
  {
   "cell_type": "code",
   "execution_count": 49,
   "id": "672a5638-0443-4a79-b857-a32c57d6b5bf",
   "metadata": {},
   "outputs": [
    {
     "data": {
      "text/plain": [
       "(7735355054, 'rajibmohapatra591@gmail.com', 554)"
      ]
     },
     "execution_count": 49,
     "metadata": {},
     "output_type": "execute_result"
    }
   ],
   "source": [
    "rajib.return_student_details()"
   ]
  },
  {
   "cell_type": "code",
   "execution_count": 50,
   "id": "240163ab-a962-4979-83f3-f17c308d121f",
   "metadata": {},
   "outputs": [
    {
     "data": {
      "text/plain": [
       "<__main__.pwskills1 at 0x7f4d981e0fa0>"
      ]
     },
     "execution_count": 50,
     "metadata": {},
     "output_type": "execute_result"
    }
   ],
   "source": [
    "rajib"
   ]
  },
  {
   "cell_type": "code",
   "execution_count": 51,
   "id": "ea18a21a-529d-41d2-93aa-fc4b6fcfc05a",
   "metadata": {},
   "outputs": [
    {
     "data": {
      "text/plain": [
       "7848874221"
      ]
     },
     "execution_count": 51,
     "metadata": {},
     "output_type": "execute_result"
    }
   ],
   "source": [
    "subha.phone_number"
   ]
  },
  {
   "cell_type": "code",
   "execution_count": 52,
   "id": "47d2f13c-3b75-47c2-bae1-d76208273e3f",
   "metadata": {},
   "outputs": [
    {
     "data": {
      "text/plain": [
       "'subhasmitasahoo051@gmailcom'"
      ]
     },
     "execution_count": 52,
     "metadata": {},
     "output_type": "execute_result"
    }
   ],
   "source": [
    "subha.email_id"
   ]
  },
  {
   "cell_type": "code",
   "execution_count": null,
   "id": "d99b5046-dd69-4fe4-9145-0d9e01863377",
   "metadata": {},
   "outputs": [],
   "source": []
  }
 ],
 "metadata": {
  "kernelspec": {
   "display_name": "Python 3 (ipykernel)",
   "language": "python",
   "name": "python3"
  },
  "language_info": {
   "codemirror_mode": {
    "name": "ipython",
    "version": 3
   },
   "file_extension": ".py",
   "mimetype": "text/x-python",
   "name": "python",
   "nbconvert_exporter": "python",
   "pygments_lexer": "ipython3",
   "version": "3.10.8"
  }
 },
 "nbformat": 4,
 "nbformat_minor": 5
}
